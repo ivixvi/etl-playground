{
 "cells": [
  {
   "cell_type": "code",
   "execution_count": 1,
   "id": "0af4b620-15ea-4cb7-93ab-204888158205",
   "metadata": {},
   "outputs": [
    {
     "name": "stdout",
     "output_type": "stream",
     "text": [
      "Collecting duckdb\n",
      "  Downloading duckdb-1.2.2-cp311-cp311-manylinux_2_17_x86_64.manylinux2014_x86_64.whl.metadata (966 bytes)\n",
      "Downloading duckdb-1.2.2-cp311-cp311-manylinux_2_17_x86_64.manylinux2014_x86_64.whl (20.2 MB)\n",
      "\u001b[2K   \u001b[90m━━━━━━━━━━━━━━━━━━━━━━━━━━━━━━━━━━━━━━━━\u001b[0m \u001b[32m20.2/20.2 MB\u001b[0m \u001b[31m8.7 MB/s\u001b[0m eta \u001b[36m0:00:00\u001b[0m:00:01\u001b[0m00:01\u001b[0m\n",
      "\u001b[?25hInstalling collected packages: duckdb\n",
      "Successfully installed duckdb-1.2.2\n"
     ]
    }
   ],
   "source": [
    "!pip install duckdb"
   ]
  },
  {
   "cell_type": "code",
   "execution_count": 2,
   "id": "7a5fdb79-8594-470a-befc-5e3cb6cd3943",
   "metadata": {},
   "outputs": [],
   "source": [
    "import duckdb"
   ]
  },
  {
   "cell_type": "code",
   "execution_count": 4,
   "id": "48ed767e-bb7c-4bd5-9263-1599c4d5b58a",
   "metadata": {},
   "outputs": [
    {
     "data": {
      "text/plain": [
       "<duckdb.duckdb.DuckDBPyConnection at 0x7fd111264430>"
      ]
     },
     "execution_count": 4,
     "metadata": {},
     "output_type": "execute_result"
    }
   ],
   "source": [
    "duckdb.execute(\"INSTALL mysql;\")"
   ]
  },
  {
   "cell_type": "code",
   "execution_count": 5,
   "id": "9e53b8ed-e755-40cf-970d-8b48159f44b9",
   "metadata": {},
   "outputs": [
    {
     "data": {
      "text/plain": [
       "<duckdb.duckdb.DuckDBPyConnection at 0x7fd111264430>"
      ]
     },
     "execution_count": 5,
     "metadata": {},
     "output_type": "execute_result"
    }
   ],
   "source": [
    "duckdb.execute(\"LOAD mysql;\")"
   ]
  },
  {
   "cell_type": "code",
   "execution_count": 8,
   "id": "58fcc9fe-0537-46c3-ba6c-2f1aa3cba892",
   "metadata": {},
   "outputs": [
    {
     "data": {
      "text/plain": [
       "<duckdb.duckdb.DuckDBPyConnection at 0x7fd111264430>"
      ]
     },
     "execution_count": 8,
     "metadata": {},
     "output_type": "execute_result"
    }
   ],
   "source": [
    "duckdb.execute(\"ATTACH 'host=db user=mysql password=mysql port=3306 database=example_schema' AS mysqldb (TYPE mysql); USE mysqldb;\")"
   ]
  },
  {
   "cell_type": "code",
   "execution_count": 9,
   "id": "8f24cbee-2d56-4966-bf8d-8a90825062d4",
   "metadata": {},
   "outputs": [
    {
     "name": "stdout",
     "output_type": "stream",
     "text": [
      "┌───────┬───────────────┐\n",
      "│  id   │ example_value │\n",
      "│ int32 │    varchar    │\n",
      "├───────┼───────────────┤\n",
      "│     1 │ 北海道        │\n",
      "│     2 │ 青森県        │\n",
      "│     3 │ 岩手県        │\n",
      "│     4 │ 宮城県        │\n",
      "│     5 │ 秋田県        │\n",
      "│     6 │ 山形県        │\n",
      "│     7 │ 福島県        │\n",
      "│     8 │ 茨城県        │\n",
      "│     9 │ 栃木県        │\n",
      "│    10 │ 群馬県        │\n",
      "│     · │   ·           │\n",
      "│     · │   ·           │\n",
      "│     · │   ·           │\n",
      "│    38 │ 愛媛県        │\n",
      "│    39 │ 高知県        │\n",
      "│    40 │ 福岡県        │\n",
      "│    41 │ 佐賀県        │\n",
      "│    42 │ 長崎県        │\n",
      "│    43 │ 熊本県        │\n",
      "│    44 │ 大分県        │\n",
      "│    45 │ 宮崎県        │\n",
      "│    46 │ 鹿児島県      │\n",
      "│    47 │ 沖縄県        │\n",
      "├───────┴───────────────┤\n",
      "│  47 rows (20 shown)   │\n",
      "└───────────────────────┘\n",
      "\n"
     ]
    }
   ],
   "source": [
    "duckdb.sql(\"select * from example_values;\").show()"
   ]
  },
  {
   "cell_type": "code",
   "execution_count": null,
   "id": "435542f3-2c07-410a-9c36-6bf430fd5269",
   "metadata": {},
   "outputs": [],
   "source": []
  }
 ],
 "metadata": {
  "kernelspec": {
   "display_name": "Python 3 (ipykernel)",
   "language": "python",
   "name": "python3"
  },
  "language_info": {
   "codemirror_mode": {
    "name": "ipython",
    "version": 3
   },
   "file_extension": ".py",
   "mimetype": "text/x-python",
   "name": "python",
   "nbconvert_exporter": "python",
   "pygments_lexer": "ipython3",
   "version": "3.11.6"
  }
 },
 "nbformat": 4,
 "nbformat_minor": 5
}
